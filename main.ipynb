{
 "cells": [
  {
   "cell_type": "code",
   "execution_count": 1,
   "id": "cd176b34",
   "metadata": {},
   "outputs": [
    {
     "ename": "ModuleNotFoundError",
     "evalue": "No module named 'network'",
     "output_type": "error",
     "traceback": [
      "\u001b[0;31m---------------------------------------------------------------------------\u001b[0m",
      "\u001b[0;31mModuleNotFoundError\u001b[0m                       Traceback (most recent call last)",
      "Input \u001b[0;32mIn [1]\u001b[0m, in \u001b[0;36m<cell line: 9>\u001b[0;34m()\u001b[0m\n\u001b[1;32m      6\u001b[0m alt\u001b[38;5;241m.\u001b[39mrenderers\u001b[38;5;241m.\u001b[39menable(\u001b[38;5;124m'\u001b[39m\u001b[38;5;124mdefault\u001b[39m\u001b[38;5;124m'\u001b[39m)\n\u001b[1;32m      8\u001b[0m \u001b[38;5;28;01mimport\u001b[39;00m \u001b[38;5;21;01mimport_ipynb\u001b[39;00m\n\u001b[0;32m----> 9\u001b[0m \u001b[38;5;28;01mimport\u001b[39;00m \u001b[38;5;21;01mnetwork\u001b[39;00m\n\u001b[1;32m     10\u001b[0m \u001b[38;5;28;01mimport\u001b[39;00m \u001b[38;5;21;01mnetwork2\u001b[39;00m \n\u001b[1;32m     11\u001b[0m \u001b[38;5;28;01mimport\u001b[39;00m \u001b[38;5;21;01mdata_loader\u001b[39;00m\n",
      "\u001b[0;31mModuleNotFoundError\u001b[0m: No module named 'network'"
     ]
    }
   ],
   "source": [
    "import numpy as np\n",
    "import pandas as pd\n",
    "from matplotlib import pyplot as plt\n",
    "import seaborn as sns\n",
    "import altair as alt\n",
    "alt.renderers.enable('default')\n",
    "\n",
    "import import_ipynb\n",
    "import network\n",
    "import network2 \n",
    "import data_loader\n",
    "\n",
    "\n",
    "train = data_loader.train_data\n",
    "validation = data_loader.validation_data\n",
    "test = data_loader.test_data\n",
    "\n",
    "net = network2.Network([784,30,10], cost = network2.CrossEntropyCost)\n",
    "\n",
    "def chart_maker(eta,lmbda, data, x, measure):\n",
    "    if 'acc' in measure:\n",
    "        chart = alt.Chart(data).transform_fold(['train_acc', 'eval_acc'])\\\n",
    "        .mark_line().encode(x = x, y = 'value:Q', color = 'key:N')\\\n",
    "        .properties(title = f'eta = {eta} | Accuracy | lmbda = {lmbda}')\n",
    "    else:\n",
    "        chart = alt.Chart(data).transform_fold(['train_cost', 'eval_cost'])\\\n",
    "        .mark_line().encode(x = x, y = 'value:Q', color = 'key:N')\\\n",
    "        .properties(title = f'eta = {eta} | Cost | lmbda = {lmbda}')\n",
    "    return chart\n",
    "\n",
    "def run(eta, lmbda, epoch):\n",
    "    net.weight_initializer_large()\n",
    "    \n",
    "    tc, ta, ec, ea = net.SGD(\\\n",
    "        training_data=train, \n",
    "        epoch=epoch, \n",
    "        mini_batch_size=10, \n",
    "        eta = eta, \n",
    "        lmbda = lmbda,\n",
    "        evaluation_data = validation,\n",
    "        monitor_training_cost = True, monitor_training_accuracy = True,\n",
    "        monitor_evaluation_cost = True, monitor_evaluation_accuracy = True)\n",
    "\n",
    "    df = [list(range(epoch)), tc, ta, ec, ea]\n",
    "    df = np.array(df)\n",
    "    cols_names = ['index', 'train_cost', 'train_acc', 'eval_cost', 'eval_acc']\n",
    "    result_data = pd.DataFrame(df.transpose(), columns = cols_names)\n",
    "    \n",
    "    result_data['train_cost'] = result_data['train_cost']\n",
    "    result_data['eval_cost'] = result_data['eval_cost']\n",
    "    \n",
    "    chart = alt.Chart(result_data).mark_circle().encode(x = 'index', y = 'train_cost')\n",
    "    return chart\n",
    "#     for measure in [f'cost_{eta}_{lmbda}', f'acc_{eta}_{lmbda}']:\n",
    "#         chart = chart_maker(eta = eta, lmbda = lmbda, data = result_data, x = 'index', measure  = measure)\n",
    "#         charts[measure] = chart\n",
    "        \n",
    "# \n",
    "run(eta = 0.1, lmbda = 10, epoch = 30)\n",
    "\n",
    "epoch = 30\n",
    "charts = {}\n",
    "for lmbda in [100,10,1,0.1,0.01]:\n",
    "    run(eta = 32, lmbda = lmbda)\n",
    "\n",
    "all_charts = (charts['cost_32_100'] | charts['acc_32_100']) & \\\n",
    "(charts['cost_32_10'] | charts['acc_32_10']) & \\\n",
    "(charts['cost_32_1'] | charts['acc_32_1']) & \\\n",
    "(charts['cost_32_0.1'] | charts['acc_32_0.1']) & \\\n",
    "(charts['cost_32_0.01'] | charts['acc_32_0.01'])\n",
    "\n",
    "# all_charts\n",
    "all_charts\n",
    "\n",
    "#Hello Habib is here "
   ]
  },
  {
   "cell_type": "code",
   "execution_count": null,
   "id": "83a908f4",
   "metadata": {},
   "outputs": [],
   "source": []
  }
 ],
 "metadata": {
  "kernelspec": {
   "display_name": "Python 3 (ipykernel)",
   "language": "python",
   "name": "python3"
  },
  "language_info": {
   "codemirror_mode": {
    "name": "ipython",
    "version": 3
   },
   "file_extension": ".py",
   "mimetype": "text/x-python",
   "name": "python",
   "nbconvert_exporter": "python",
   "pygments_lexer": "ipython3",
   "version": "3.9.17"
  }
 },
 "nbformat": 4,
 "nbformat_minor": 5
}
